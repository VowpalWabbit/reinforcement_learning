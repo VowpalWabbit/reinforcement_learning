{
 "cells": [
  {
   "cell_type": "code",
   "execution_count": 1,
   "source": [
    "from log_gen import *\n",
    "from pathlib import Path\n",
    "\n",
    "root = Path('../../external_parser/unit_tests/test_files/')\n",
    "valid_joined_logs = root.joinpath('valid_joined_logs')"
   ],
   "outputs": [],
   "metadata": {}
  },
  {
   "cell_type": "markdown",
   "source": [
    "# Generate pdrop test data"
   ],
   "metadata": {}
  },
  {
   "cell_type": "code",
   "execution_count": 3,
   "source": [
    "ctx1 = \"\"\"{\"_multi\":[{\"a1\":\"f1\"},{\"a2\":\"f2\"}]}\"\"\"\n",
    "ctx2 = \"\"\"{\"S\": {\"f\": 1}, \"_multi\":[{\"a1\":\"f1\"},{\"a2\":\"f2\"}]}\"\"\"\n",
    "\n",
    "\n",
    "with BinLogWriter(valid_joined_logs.joinpath('cb_joined_with_pdrop_05.fb')) as with_pdrop:\n",
    "    with_pdrop.write_file_magic()\n",
    "    with_pdrop.write_checkpoint_info()\n",
    "    with_pdrop.write_regular_message([mk_cb_payload(_ctx=ctx1, _actions=[2,1], _pdrop=0.5), mk_cb_reward()])\n",
    "\n",
    "with BinLogWriter(valid_joined_logs.joinpath('cb_joined_with_pdrop_1.fb')) as with_pdrop:\n",
    "    with_pdrop.write_file_magic()\n",
    "    with_pdrop.write_checkpoint_info()\n",
    "    with_pdrop.write_regular_message([mk_cb_payload(_ctx=ctx1, _actions=[2,1], _pdrop=1), mk_cb_reward()])\n",
    "    with_pdrop.write_regular_message([mk_cb_payload(_ctx=ctx2, _actions=[2,1], _pdrop=0), mk_cb_reward()])"
   ],
   "outputs": [],
   "metadata": {}
  },
  {
   "cell_type": "code",
   "execution_count": null,
   "source": [],
   "outputs": [],
   "metadata": {}
  }
 ],
 "metadata": {
  "orig_nbformat": 4,
  "language_info": {
   "name": "python",
   "version": "3.8.10",
   "mimetype": "text/x-python",
   "codemirror_mode": {
    "name": "ipython",
    "version": 3
   },
   "pygments_lexer": "ipython3",
   "nbconvert_exporter": "python",
   "file_extension": ".py"
  },
  "kernelspec": {
   "name": "python3",
   "display_name": "Python 3.8.10 64-bit"
  },
  "interpreter": {
   "hash": "31f2aee4e71d21fbe5cf8b01ff0e069b9275f58929596ceb00d14d90e3e16cd6"
  }
 },
 "nbformat": 4,
 "nbformat_minor": 2
}