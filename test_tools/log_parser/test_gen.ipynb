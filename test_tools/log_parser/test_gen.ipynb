{
 "cells": [
  {
   "cell_type": "code",
   "execution_count": null,
   "source": [
    "from log_gen import *\n",
    "from pathlib import Path\n",
    "\n",
    "root = Path('../../external_parser/unit_tests/test_files/')\n",
    "valid_joined_logs = root.joinpath('valid_joined_logs')"
   ],
   "outputs": [],
   "metadata": {}
  },
  {
   "cell_type": "markdown",
   "source": [
    "# Generate pdrop test data"
   ],
   "metadata": {}
  },
  {
   "cell_type": "code",
   "execution_count": null,
   "source": [
    "with BinLogWriter(valid_joined_logs.joinpath('cb_joined_without_pdrop.fb')) as without_pdrop:\n",
    "    without_pdrop.write_file_magic()\n",
    "    without_pdrop.write_checkpoint_info()\n",
    "    without_pdrop.write_regular_message([mk_cb_payload(_actions=[1,0]), mk_cb_reward()])\n",
    "\n",
    "with BinLogWriter(valid_joined_logs.joinpath('cb_joined_with_pdrop.fb')) as with_pdrop:\n",
    "    with_pdrop.write_file_magic()\n",
    "    with_pdrop.write_checkpoint_info()\n",
    "    with_pdrop.write_regular_message([mk_cb_payload(_actions=[1,0], _pdrop=0.5), mk_cb_reward()])"
   ],
   "outputs": [],
   "metadata": {}
  },
  {
   "cell_type": "code",
   "execution_count": null,
   "source": [],
   "outputs": [],
   "metadata": {}
  }
 ],
 "metadata": {
  "orig_nbformat": 4,
  "language_info": {
   "name": "python",
   "version": "3.8.10",
   "mimetype": "text/x-python",
   "codemirror_mode": {
    "name": "ipython",
    "version": 3
   },
   "pygments_lexer": "ipython3",
   "nbconvert_exporter": "python",
   "file_extension": ".py"
  },
  "kernelspec": {
   "name": "python3",
   "display_name": "Python 3.8.10 64-bit"
  },
  "interpreter": {
   "hash": "31f2aee4e71d21fbe5cf8b01ff0e069b9275f58929596ceb00d14d90e3e16cd6"
  }
 },
 "nbformat": 4,
 "nbformat_minor": 2
}