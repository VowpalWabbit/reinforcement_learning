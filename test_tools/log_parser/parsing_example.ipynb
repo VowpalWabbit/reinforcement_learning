{
 "cells": [
  {
   "cell_type": "code",
   "execution_count": null,
   "source": [
    "from parser import get_records\n",
    "import pandas as pd\n",
    "from pathlib import Path\n",
    "\n",
    "root = Path(\"../../external_parser/unit_tests/test_files/valid_joined_logs\")"
   ],
   "outputs": [],
   "metadata": {}
  },
  {
   "cell_type": "markdown",
   "source": [
    "# CB"
   ],
   "metadata": {}
  },
  {
   "cell_type": "markdown",
   "source": [
    "## Load records"
   ],
   "metadata": {}
  },
  {
   "cell_type": "code",
   "execution_count": null,
   "source": [
    "records = pd.DataFrame(get_records(root.joinpath(\"average_reward_100_interactions.fb\")))\n",
    "records.head()"
   ],
   "outputs": [],
   "metadata": {}
  },
  {
   "cell_type": "markdown",
   "source": [
    "## Get decisions and outcomes"
   ],
   "metadata": {}
  },
  {
   "cell_type": "code",
   "execution_count": null,
   "source": [
    "decisions = records[records[\"type\"] == \"CB\"]\n",
    "outcomes = records[records[\"type\"] == \"Outcome\"]\n",
    "decisions = (\n",
    "    pd.DataFrame([row[\"message\"] for i, row in decisions.iterrows()])\n",
    "    .reset_index()\n",
    "    .rename(columns={\"index\": \"order\"})\n",
    "    .set_index([\"id\"])\n",
    "    .sort_values(\"order\")\n",
    ")\n",
    "outcomes = (\n",
    "    pd.DataFrame([row[\"message\"] for i, row in outcomes.iterrows()])[[\"id\", \"reward\"]]\n",
    "    .groupby(\"id\")\n",
    "    .mean()\n",
    ")"
   ],
   "outputs": [],
   "metadata": {}
  },
  {
   "cell_type": "code",
   "execution_count": null,
   "source": [
    "decisions.head()"
   ],
   "outputs": [],
   "metadata": {}
  },
  {
   "cell_type": "code",
   "execution_count": null,
   "source": [
    "outcomes.head()"
   ],
   "outputs": [],
   "metadata": {}
  },
  {
   "cell_type": "markdown",
   "source": [
    "## Join"
   ],
   "metadata": {}
  },
  {
   "cell_type": "code",
   "execution_count": null,
   "source": [
    "joined = decisions.join(outcomes[[\"reward\"]], how=\"left\").sort_values(\"order\")\n",
    "joined[\"a\"] = joined.apply(lambda row: row[\"actions\"][0] - 1, axis=1)\n",
    "joined[\"p\"] = joined.apply(lambda row: row[\"probs\"][0], axis=1)\n",
    "joined.head()"
   ],
   "outputs": [],
   "metadata": {}
  },
  {
   "cell_type": "markdown",
   "source": [
    "# Multistep"
   ],
   "metadata": {}
  },
  {
   "cell_type": "markdown",
   "source": [
    "## Load records"
   ],
   "metadata": {}
  },
  {
   "cell_type": "code",
   "execution_count": null,
   "source": [
    "records = pd.DataFrame(get_records(root.joinpath(\"multistep_2_episodes.fb\")))\n",
    "records.head()"
   ],
   "outputs": [],
   "metadata": {}
  },
  {
   "cell_type": "code",
   "execution_count": null,
   "source": [
    "decisions = records[records[\"type\"] == \"MultiStep\"]\n",
    "outcomes = records[records[\"type\"] == \"Outcome\"]\n",
    "\n",
    "decisions = (\n",
    "    pd.DataFrame([row[\"message\"] for i, row in decisions.iterrows()])\n",
    "    .reset_index()\n",
    "    .rename(columns={\"level_0\": \"order\"})\n",
    "    .set_index([\"id\", \"index\"])\n",
    "    .sort_values(\"order\")\n",
    ")\n",
    "outcomes = pd.DataFrame([row[\"message\"] for i, row in outcomes.iterrows()])\n",
    "outcomes_episodic = (\n",
    "    outcomes[outcomes[\"index\"].isna()][[\"id\", \"reward\"]].groupby([\"id\"]).mean()\n",
    ")\n",
    "outcomes_per_step = (\n",
    "    outcomes[outcomes[\"index\"].notna()][[\"id\", \"index\", \"reward\"]]\n",
    "    .groupby([\"id\", \"index\"])\n",
    "    .mean()\n",
    ")"
   ],
   "outputs": [],
   "metadata": {}
  },
  {
   "cell_type": "code",
   "execution_count": null,
   "source": [
    "decisions"
   ],
   "outputs": [],
   "metadata": {}
  },
  {
   "cell_type": "code",
   "execution_count": null,
   "source": [
    "outcomes_episodic"
   ],
   "outputs": [],
   "metadata": {}
  },
  {
   "cell_type": "code",
   "execution_count": null,
   "source": [
    "outcomes_per_step"
   ],
   "outputs": [],
   "metadata": {}
  },
  {
   "cell_type": "markdown",
   "source": [
    "## Join"
   ],
   "metadata": {}
  },
  {
   "cell_type": "code",
   "execution_count": null,
   "source": [
    "joined = (\n",
    "    decisions.join(\n",
    "        outcomes_episodic[[\"reward\"]], on=\"id\", how=\"left\", rsuffix=\"_episodic\"\n",
    "    )\n",
    "    .join(outcomes_per_step[[\"reward\"]], how=\"left\", rsuffix=\"_per_step\")\n",
    "    .sort_values(\"order\")\n",
    ")\n",
    "joined[\"a\"] = joined.apply(lambda row: row[\"actions\"][0] - 1, axis=1)\n",
    "joined[\"p\"] = joined.apply(lambda row: row[\"probs\"][0], axis=1)\n",
    "joined.head()"
   ],
   "outputs": [],
   "metadata": {}
  },
  {
   "cell_type": "code",
   "execution_count": null,
   "source": [],
   "outputs": [],
   "metadata": {}
  }
 ],
 "metadata": {
  "orig_nbformat": 4,
  "language_info": {
   "name": "python",
   "version": "3.8.10",
   "mimetype": "text/x-python",
   "codemirror_mode": {
    "name": "ipython",
    "version": 3
   },
   "pygments_lexer": "ipython3",
   "nbconvert_exporter": "python",
   "file_extension": ".py"
  },
  "kernelspec": {
   "name": "python3",
   "display_name": "Python 3.8.10 64-bit"
  },
  "interpreter": {
   "hash": "31f2aee4e71d21fbe5cf8b01ff0e069b9275f58929596ceb00d14d90e3e16cd6"
  }
 },
 "nbformat": 4,
 "nbformat_minor": 2
}